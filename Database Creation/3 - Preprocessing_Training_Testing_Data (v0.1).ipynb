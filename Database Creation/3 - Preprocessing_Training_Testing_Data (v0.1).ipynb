{
 "cells": [
  {
   "attachments": {
    "image.png": {
     "image/png": "[encoded data removed]"
    }
   },
   "cell_type": "markdown",
   "id": "40e1cbb9",
   "metadata": {},
   "source": [
    "------------------\n",
    "------------------\n",
    "\n",
    "![image.png](attachment:image.png)\n",
    "\n",
    "------------------\n",
    "------------------"
   ]
  },
  {
   "cell_type": "markdown",
   "id": "d42f8d61",
   "metadata": {},
   "source": [
    "# Preproccessing Training/Testing Data (Input and Output) (v0.1)\n",
    "\n",
    "### PROJECT THESEUS (v0.1) - PART 3\n",
    "------------------\n",
    "\n",
    "Artash Nath, UTAT Orbit Member\n",
    "\n",
    "-------------------\n",
    "\n",
    "To train a machine learning model, input data needs to be normalized and then split into a training and testing dataset.\n",
    "\n",
    "This notebook loads the \n",
    "\n",
    "-------------------"
   ]
  },
  {
   "cell_type": "markdown",
   "id": "cc69635c",
   "metadata": {},
   "source": [
    "<b>1. Importing Libraries</b>"
   ]
  },
  {
   "cell_type": "code",
   "execution_count": 1,
   "id": "ba141322",
   "metadata": {},
   "outputs": [],
   "source": [
    "import numpy as np\n",
    "import matplotlib.pyplot as plt\n",
    "from tqdm.notebook import tqdm\n",
    "import time\n",
    "import random"
   ]
  },
  {
   "cell_type": "markdown",
   "id": "47d95b78",
   "metadata": {},
   "source": [
    "----------------------\n",
    "\n",
    "<b>2. Load Position / Effect Vectors Data</b>"
   ]
  },
  {
   "cell_type": "code",
   "execution_count": 2,
   "id": "c2e1a1a6",
   "metadata": {},
   "outputs": [],
   "source": [
    "position_data = np.load('./data/position_data.npy')\n",
    "effect_data = np.load('./data/effect_data.npy')"
   ]
  },
  {
   "cell_type": "markdown",
   "id": "7c6b9a68",
   "metadata": {},
   "source": [
    "-----------------------\n",
    "\n",
    "<b>3. Calculate Minimums and Maximums of Data</b>"
   ]
  },
  {
   "cell_type": "code",
   "execution_count": 3,
   "id": "50833cb4",
   "metadata": {},
   "outputs": [],
   "source": [
    "position_minimums = np.array([(position_data[:,i]).min() for i in range(0,6)])\n",
    "position_maximums = np.array([(position_data[:,i]).max() for i in range(0,6)])\n",
    "\n",
    "effect_minimums = np.array([(effect_data[:,i]).min() for i in range(0,6)])\n",
    "effect_maximums = np.array([(effect_data[:,i]).max() for i in range(0,6)])\n",
    "                             \n",
    "                             \n",
    "np.save('./DATA/NORMALIZATION/position_minimums', position_minimums)\n",
    "np.save('./DATA/NORMALIZATION/position_maximums', position_maximums)\n",
    "np.save('./DATA/NORMALIZATION/effect_minimums', effect_minimums)\n",
    "np.save('./DATA/NORMALIZATION/effect_maximums', effect_maximums)"
   ]
  },
  {
   "cell_type": "markdown",
   "id": "8b8f19fa",
   "metadata": {},
   "source": [
    "-----------------------\n",
    "\n",
    "<b>4. Use Minimums and Maximums to Normalize Position and Effect Data</b>"
   ]
  },
  {
   "cell_type": "code",
   "execution_count": 4,
   "id": "0a8b262d",
   "metadata": {},
   "outputs": [],
   "source": [
    "position_data[:,0] = (position_data[:,0] - position_minimums[0])/(position_maximums[0] - position_minimums[0])\n",
    "position_data[:,1] = (position_data[:,1] - position_minimums[1])/(position_maximums[1] - position_minimums[1])\n",
    "position_data[:,2] = (position_data[:,2] - position_minimums[2])/(position_maximums[2] - position_minimums[2])\n",
    "position_data[:,3] = (position_data[:,3] - position_minimums[3])/(position_maximums[3] - position_minimums[3])\n",
    "position_data[:,4] = (position_data[:,4] - position_minimums[4])/(position_maximums[4] - position_minimums[4])\n",
    "position_data[:,5] = (position_data[:,5] - position_minimums[5])/(position_maximums[5] - position_minimums[5])\n",
    "\n",
    "\n",
    "effect_data[:,0] = (effect_data[:,0] - effect_minimums[0])/(effect_maximums[0] - effect_minimums[0])\n",
    "effect_data[:,1] = (effect_data[:,1] - effect_minimums[1])/(effect_maximums[1] - effect_minimums[1])\n",
    "effect_data[:,2] = (effect_data[:,2] - effect_minimums[2])/(effect_maximums[2] - effect_minimums[2])\n",
    "effect_data[:,3] = (effect_data[:,3] - effect_minimums[3])/(effect_maximums[3] - effect_minimums[3])\n",
    "effect_data[:,4] = (effect_data[:,4] - effect_minimums[4])/(effect_maximums[4] - effect_minimums[4])\n",
    "effect_data[:,5] = (effect_data[:,5] - effect_minimums[5])/(effect_maximums[5] - effect_minimums[5])"
   ]
  },
  {
   "cell_type": "markdown",
   "id": "59b07bdc",
   "metadata": {},
   "source": [
    "-----------------------\n",
    "\n",
    "<b>5. Randomize Position and Effect Data in Unision and split to Train / Test Data with 80% - 20% Ratio</b>"
   ]
  },
  {
   "cell_type": "code",
   "execution_count": 5,
   "id": "1b4c14e2",
   "metadata": {},
   "outputs": [],
   "source": [
    "randomize = np.arange(len(position_data))\n",
    "np.random.shuffle(randomize)\n",
    "position_data = position_data[randomize]\n",
    "effect_data = effect_data[randomize]"
   ]
  },
  {
   "cell_type": "code",
   "execution_count": 6,
   "id": "ee6c94db",
   "metadata": {},
   "outputs": [],
   "source": [
    "train_inputs = position_data[:int(len(effect_data)*0.8)]\n",
    "train_outputs = effect_data[:int(len(effect_data)*0.8)]\n",
    "\n",
    "test_inputs = position_data[int(len(effect_data)*0.8):]\n",
    "test_outputs = effect_data[int(len(effect_data)*0.8):]"
   ]
  },
  {
   "cell_type": "code",
   "execution_count": 7,
   "id": "3bfc944d",
   "metadata": {},
   "outputs": [
    {
     "name": "stdout",
     "output_type": "stream",
     "text": [
      "Train Inputs : (21600000, 6)\n",
      "Train Outputs : (21600000, 6)\n",
      "\n",
      "Test Inputs : (5400000, 6)\n",
      "Test Outputs : (5400000, 6)\n"
     ]
    }
   ],
   "source": [
    "print(\"Train Inputs : {}\".format(np.shape(train_inputs)))\n",
    "print(\"Train Outputs : {}\".format(np.shape(train_outputs)))\n",
    "print()\n",
    "print(\"Test Inputs : {}\".format(np.shape(test_inputs)))\n",
    "print(\"Test Outputs : {}\".format(np.shape(test_outputs)))"
   ]
  },
  {
   "cell_type": "markdown",
   "id": "45de509a",
   "metadata": {},
   "source": [
    "-----------------------\n",
    "\n",
    "<b>5. Save Training and Testing Data</b>"
   ]
  },
  {
   "cell_type": "code",
   "execution_count": 9,
   "id": "2f559f36",
   "metadata": {},
   "outputs": [],
   "source": [
    "np.save('./DATA/ML DATA/Train_Inputs', train_inputs)\n",
    "np.save('./DATA/ML DATA/Train_Outputs', train_outputs)\n",
    "\n",
    "np.save('./DATA/ML DATA/Test_Inputs', test_inputs)\n",
    "np.save('./DATA/ML DATA/Test_Outputs', test_outputs)"
   ]
  }
 ],
 "metadata": {
  "kernelspec": {
   "display_name": "Python 3",
   "language": "python",
   "name": "python3"
  },
  "language_info": {
   "codemirror_mode": {
    "name": "ipython",
    "version": 3
   },
   "file_extension": ".py",
   "mimetype": "text/x-python",
   "name": "python",
   "nbconvert_exporter": "python",
   "pygments_lexer": "ipython3",
   "version": "3.7.4"
  }
 },
 "nbformat": 4,
 "nbformat_minor": 5
}
