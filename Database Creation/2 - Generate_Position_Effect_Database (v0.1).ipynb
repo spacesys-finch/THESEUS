{
 "cells": [
  {
   "attachments": {
    "THESEUS_FONT_NOBCKG.png": {
     "image/png": "[encoded data removed]"
    }
   },
   "cell_type": "markdown",
   "id": "ef8e4cb1",
   "metadata": {},
   "source": [
    "------------------\n",
    "------------------\n",
    "\n",
    "\n",
    "![THESEUS_FONT_NOBCKG.png](attachment:THESEUS_FONT_NOBCKG.png)\n",
    "\n",
    "\n",
    "------------------\n",
    "------------------\n"
   ]
  },
  {
   "cell_type": "markdown",
   "id": "c2ca7eeb",
   "metadata": {},
   "source": [
    "# Generating Position / Effect Database (Input and Output) (v0.1)\n",
    "\n",
    "### PROJECT THESEUS (v0.1) - PART 2\n",
    "------------------\n",
    "\n",
    "Artash Nath, UTAT Orbit Member\n",
    "\n",
    "-------------------\n",
    "\n",
    "This notebook loads a list of simulated keplarian coordinates and converts them to  position and effect vectors in format [X, Y, Z, V<sub>x</sub>, V<sub>y</sub>, V<sub>z</sub>].\n",
    "\n",
    "The position vector is the current state of the sattelite, while the effect vector is the predicted next state of the sattelite from the compiled C program.\n",
    "\n",
    "This code produces 2 NPY files : the positions, and the effects.\n",
    "\n",
    "-------------------"
   ]
  },
  {
   "cell_type": "markdown",
   "id": "8874592b",
   "metadata": {},
   "source": [
    "<b>1. Importing Libraries</b>"
   ]
  },
  {
   "cell_type": "code",
   "execution_count": 1,
   "id": "3bee2304",
   "metadata": {},
   "outputs": [],
   "source": [
    "from ctypes import CDLL, POINTER, c_double\n",
    "import numpy as np\n",
    "import matplotlib.pyplot as plt\n",
    "from tqdm.notebook import tqdm\n",
    "from multiprocessing import Process\n",
    "import time"
   ]
  },
  {
   "cell_type": "markdown",
   "id": "c2207c4a",
   "metadata": {},
   "source": [
    "----------------------\n",
    "\n",
    "<b>2. Load Kelparian Input Data</b>"
   ]
  },
  {
   "cell_type": "code",
   "execution_count": 2,
   "id": "159cece1",
   "metadata": {},
   "outputs": [],
   "source": [
    "kepl_elem_coordinates = np.load('./data/kepl_elem_coordinates.npy')"
   ]
  },
  {
   "cell_type": "code",
   "execution_count": 3,
   "id": "506eb2d2",
   "metadata": {},
   "outputs": [
    {
     "data": {
      "text/plain": [
       "(27000000, 6)"
      ]
     },
     "execution_count": 3,
     "metadata": {},
     "output_type": "execute_result"
    }
   ],
   "source": [
    "np.shape(kepl_elem_coordinates)"
   ]
  },
  {
   "cell_type": "markdown",
   "id": "f297e55d",
   "metadata": {},
   "source": [
    "----------\n",
    "\n",
    "<b>3. Load C Library and Functions</b>"
   ]
  },
  {
   "cell_type": "code",
   "execution_count": 4,
   "id": "751f70f6",
   "metadata": {},
   "outputs": [],
   "source": [
    "# Load library\n",
    "supernova = CDLL((\"supernova.so\"))\n",
    "# Make sure you have a supernova.so binary compiled for your system\n",
    "\n",
    "\n",
    "def _wrap_func(lib, funcname, restype, argtypes):\n",
    "    ''' Referenced from https://dbader.org/blog/python-ctypes-tutorial-part-2\n",
    "    '''\n",
    "    func = lib.__getattr__(funcname)\n",
    "    func.restype = restype\n",
    "    func.argtypes = argtypes\n",
    "    return func\n",
    "\n",
    "\n",
    "# Define functions from supernova C in Python\n",
    "force_model = _wrap_func(\n",
    "    supernova, \"simplified_perturbations\", None,\n",
    "    [c_double, POINTER(c_double), POINTER(c_double)])\n",
    "\n",
    "state_from_keplerian = _wrap_func(\n",
    "    supernova, \"stateFromKeplerian\", POINTER(c_double),\n",
    "    [c_double, c_double, c_double, c_double, c_double, c_double])\n",
    "\n",
    "\n",
    "def get_state_and_acceleration(state: np.ndarray) -> \\\n",
    "        \"tuple[np.ndarray, np.ndarray]\":\n",
    "    '''\n",
    "    state: 6 keplerian elements presented as [SMA, ECC, INC, RAAN, AOP, MA]\n",
    "    all distances in m\n",
    "    all angles in radians\n",
    "    '''\n",
    "    rv = state_from_keplerian(*state)  # position/velocity vector\n",
    "    result = (c_double*6)()    # place to store the resulting velocity/acceleration\n",
    "    force_model(0, rv, result)\n",
    "\n",
    "    return (np.ctypeslib.as_array(rv, shape=(6,)), np.ctypeslib.as_array(result, shape=(6,)))"
   ]
  },
  {
   "cell_type": "markdown",
   "id": "23088b59",
   "metadata": {},
   "source": [
    "------------------\n",
    "\n",
    "<b> 4. Generating Position and Effect Vectors from Simulated Keplarian Coordinate List </b>"
   ]
  },
  {
   "cell_type": "code",
   "execution_count": 5,
   "id": "282bd3b0",
   "metadata": {
    "scrolled": false
   },
   "outputs": [
    {
     "data": {
      "application/vnd.jupyter.widget-view+json": {
       "model_id": "081e65b919db4c738321f335627adef3",
       "version_major": 2,
       "version_minor": 0
      },
      "text/plain": [
       "  0%|          | 0/27000000 [00:00<?, ?it/s]"
      ]
     },
     "metadata": {},
     "output_type": "display_data"
    }
   ],
   "source": [
    "position_data = np.zeros(shape=(np.shape(kepl_elem_coordinates)))\n",
    "effect_data = np.zeros(shape=(np.shape(kepl_elem_coordinates)))\n",
    "\n",
    "i = 0\n",
    "\n",
    "for coord in tqdm(kepl_elem_coordinates):\n",
    "    position, effect = get_state_and_acceleration(coord)\n",
    "    position_data[i] = position\n",
    "    effect_data[i] = effect\n",
    "    i+=1"
   ]
  },
  {
   "cell_type": "markdown",
   "id": "53e85278",
   "metadata": {},
   "source": [
    "-----------------\n",
    "\n",
    "<b>4. Saving Position and Effect Vectors to .NPY file</b>"
   ]
  },
  {
   "cell_type": "code",
   "execution_count": 7,
   "id": "2657c23d",
   "metadata": {},
   "outputs": [],
   "source": [
    "np.save('./data/position_data.npy', position_data)\n",
    "np.save('./data/effect_data.npy', effect_data)"
   ]
  }
 ],
 "metadata": {
  "kernelspec": {
   "display_name": "Python 3",
   "language": "python",
   "name": "python3"
  },
  "language_info": {
   "codemirror_mode": {
    "name": "ipython",
    "version": 3
   },
   "file_extension": ".py",
   "mimetype": "text/x-python",
   "name": "python",
   "nbconvert_exporter": "python",
   "pygments_lexer": "ipython3",
   "version": "3.7.4"
  }
 },
 "nbformat": 4,
 "nbformat_minor": 5
}
