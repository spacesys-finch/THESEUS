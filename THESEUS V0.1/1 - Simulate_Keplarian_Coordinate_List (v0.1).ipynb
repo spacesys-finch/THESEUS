{
 "cells": [
  {
   "attachments": {
    "image-3.png": {
     "image/png": "[encoded data removed]"
    }
   },
   "cell_type": "markdown",
   "id": "ec59b557",
   "metadata": {},
   "source": [
    "------------------\n",
    "------------------\n",
    "\n",
    "\n",
    "![image-3.png](attachment:image-3.png)\n",
    "\n",
    "------------------\n",
    "------------------\n"
   ]
  },
  {
   "cell_type": "markdown",
   "id": "50b1010c",
   "metadata": {},
   "source": [
    "# Simulating Keplarian Coordinate List (v0.1)\n",
    "\n",
    "### PROJECT THESEUS (v0.1) - PART 1\n",
    "------------------\n",
    "\n",
    "Artash Nath, UTAT Orbit Member\n",
    "\n",
    "-------------------\n",
    "\n",
    "The purpose of this notebook is to simulate a list of keplarian coordinates that give a representation of FINCH's polar orbit around the earth. It then saves the list to a NPY file.\n",
    "\n",
    "-------------------"
   ]
  },
  {
   "cell_type": "markdown",
   "id": "c916b10b",
   "metadata": {},
   "source": [
    "<b>1. Importing Libraries</b>"
   ]
  },
  {
   "cell_type": "code",
   "execution_count": 1,
   "id": "27d08b9c",
   "metadata": {},
   "outputs": [],
   "source": [
    "import numpy as np\n",
    "import matplotlib.pyplot as plt\n",
    "import time"
   ]
  },
  {
   "cell_type": "markdown",
   "id": "65ec8ac0",
   "metadata": {},
   "source": [
    "-----------------\n",
    "\n",
    "<b>2. Function to Generate Combinations from Arrays</b>\n",
    "\n",
    "This function takes an input of an N number of arrays of sizes (S<sub>1</sub>, S<sub>2</sub>, S<sub>3</sub>, ...., S<sub>n</sub>) and creates a resulting array of length S<sub>1</sub> * S<sub>2</sub> * S<sub>3</sub> * ....  * S<sub>n</sub>\n"
   ]
  },
  {
   "cell_type": "code",
   "execution_count": 2,
   "id": "d8696230",
   "metadata": {},
   "outputs": [],
   "source": [
    "def generate_combinations(arrays, out=None):\n",
    "    \n",
    "    arrays = [np.asarray(x) for x in arrays]\n",
    "    dtype = arrays[0].dtype\n",
    "\n",
    "    n = np.prod([x.size for x in arrays])\n",
    "    if out is None:\n",
    "        out = np.zeros([n, len(arrays)], dtype=dtype)\n",
    "\n",
    "    #m = n / arrays[0].size\n",
    "    m = int(n / arrays[0].size) \n",
    "    out[:,0] = np.repeat(arrays[0], m)\n",
    "    if arrays[1:]:\n",
    "        generate_combinations(arrays[1:], out=out[0:m, 1:])\n",
    "        for j in range(1, arrays[0].size):\n",
    "            out[j*m:(j+1)*m, 1:] = out[0:m, 1:]\n",
    "    return out"
   ]
  },
  {
   "cell_type": "markdown",
   "id": "67e47b8c",
   "metadata": {},
   "source": [
    "-----------------\n",
    "\n",
    "<b>3. Using Function to Generate Combinations of 6 Keplarian Elements</b>\n",
    "\n",
    "A combination of a range of 6 keplarian elements to simulate the sattelite's orbit around earth are created.\n"
   ]
  },
  {
   "cell_type": "code",
   "execution_count": 3,
   "id": "9162bb9d",
   "metadata": {},
   "outputs": [
    {
     "name": "stdout",
     "output_type": "stream",
     "text": [
      "Generated 27000000 Combinations in 0.486 Seconds\n",
      "Database Shape : (27000000, 6)\n"
     ]
    }
   ],
   "source": [
    "# Semi Major Axis  | SMA\n",
    "# Eccentricity     | ECC\n",
    "# Inclination      | INC\n",
    "# Right Acension   | RAAN\n",
    "# Argm. Of Perigee | AOP\n",
    "# True Anomaly     | TA\n",
    "\n",
    "start_time = time.perf_counter()\n",
    "\n",
    "SMA = (6878000, 6928000)\n",
    "ECC = (0, 0.003621614)\n",
    "INC = (97.40096011, 97.59208909)\n",
    "\n",
    "RAAN = (0, (2*np.pi))\n",
    "AOP = (0, (2*np.pi))\n",
    "TA = (0, (2*np.pi))\n",
    "\n",
    "n1 = 5\n",
    "n2 = 60\n",
    "\n",
    "SMA_ARRAY = np.linspace(SMA[0], SMA[1], n1)\n",
    "ECC_ARRAY = np.linspace(ECC[0], ECC[1], n1)\n",
    "INC_ARRAY = np.linspace(INC[0], INC[1], n1)\n",
    "\n",
    "RAAN_ARRAY = np.linspace(RAAN[0], RAAN[1], n2)\n",
    "AOP_ARRAY = np.linspace(AOP[0], AOP[1], n2)\n",
    "TA_ARRAY = np.linspace(TA[0], TA[1], n2)\n",
    "\n",
    "\n",
    "Input_Database_6D = generate_combinations([SMA_ARRAY, ECC_ARRAY, INC_ARRAY, RAAN_ARRAY, AOP_ARRAY, TA_ARRAY])\n",
    "\n",
    "end_time = time.perf_counter()\n",
    "total_time = round(end_time-start_time, 3)\n",
    "print(\"Generated {} Combinations in {} Seconds\".format((n1**3)*(n2**3),total_time))\n",
    "print(\"Database Shape : {}\".format(np.shape(Input_Database_6D)))"
   ]
  },
  {
   "cell_type": "markdown",
   "id": "691ae68b",
   "metadata": {},
   "source": [
    "-----------------\n",
    "\n",
    "<b>4. Saving Simulated Coordinate List as .NPY file</b>"
   ]
  },
  {
   "cell_type": "code",
   "execution_count": 4,
   "id": "9e298319",
   "metadata": {},
   "outputs": [],
   "source": [
    "np.save('./data/kepl_elem_coordinates.npy', Input_Database_6D)"
   ]
  }
 ],
 "metadata": {
  "kernelspec": {
   "display_name": "Python 3",
   "language": "python",
   "name": "python3"
  },
  "language_info": {
   "codemirror_mode": {
    "name": "ipython",
    "version": 3
   },
   "file_extension": ".py",
   "mimetype": "text/x-python",
   "name": "python",
   "nbconvert_exporter": "python",
   "pygments_lexer": "ipython3",
   "version": "3.7.4"
  }
 },
 "nbformat": 4,
 "nbformat_minor": 5
}
