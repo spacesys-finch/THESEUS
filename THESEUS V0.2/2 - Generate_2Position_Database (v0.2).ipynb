{
 "cells": [
  {
   "attachments": {
    "image-2.png": {
     "image/png": "[encoded data removed]"
    }
   },
   "cell_type": "markdown",
   "id": "1bc59c41",
   "metadata": {},
   "source": [
    "--------------------\n",
    "--------------------\n",
    "\n",
    "![image-2.png](attachment:image-2.png)\n",
    "\n",
    "--------------------\n",
    "--------------------"
   ]
  },
  {
   "cell_type": "markdown",
   "id": "61caff0f",
   "metadata": {},
   "source": [
    "# Generating Position / Forecast Database (Input and Output) (v0.2)\n",
    "\n",
    "### PROJECT THESEUS (v0.2) - PART 2\n",
    "------------------\n",
    "\n",
    "Artash Nath, UTAT Orbit Member\n",
    "\n",
    "-------------------\n",
    "\n",
    "This notebook loads a list of simulated keplarian coordinates and converts them to position, and forecasted prediction vectors. [X, Y, Z, V<sub>x</sub>, V<sub>y</sub>, V<sub>z</sub>].\n",
    "\n",
    "The position vector is the current state of the sattelite, while the forcasted prediction is the state of the sattelite in a unit time.\n",
    "\n",
    "This code produces 2 NPY files : the positions, and the forecasted position.\n",
    "\n",
    "-------------------"
   ]
  },
  {
   "cell_type": "markdown",
   "id": "8a03c740",
   "metadata": {},
   "source": [
    "<b>1. Importing Libraries</b>"
   ]
  },
  {
   "cell_type": "code",
   "execution_count": 1,
   "id": "461f5eac",
   "metadata": {},
   "outputs": [],
   "source": [
    "from ctypes import CDLL, POINTER, c_double, c_void_p\n",
    "import numpy as np\n",
    "import matplotlib.pyplot as plt\n",
    "from tqdm.notebook import tqdm\n",
    "from multiprocessing import Process\n",
    "import time"
   ]
  },
  {
   "cell_type": "markdown",
   "id": "f4d7960e",
   "metadata": {},
   "source": [
    "----------------------\n",
    "\n",
    "<b>2. Load Kelparian Input Data</b>"
   ]
  },
  {
   "cell_type": "code",
   "execution_count": 2,
   "id": "5ecaf383",
   "metadata": {},
   "outputs": [],
   "source": [
    "kepl_elem_coordinates = np.load('./data/kepl_elem_coordinates.npy')"
   ]
  },
  {
   "cell_type": "code",
   "execution_count": 3,
   "id": "660379ef",
   "metadata": {},
   "outputs": [
    {
     "data": {
      "text/plain": [
       "(45000000, 6)"
      ]
     },
     "execution_count": 3,
     "metadata": {},
     "output_type": "execute_result"
    }
   ],
   "source": [
    "np.shape(kepl_elem_coordinates)"
   ]
  },
  {
   "cell_type": "markdown",
   "id": "d4f5633a",
   "metadata": {},
   "source": [
    "----------\n",
    "\n",
    "<b>3. Load C Library and Functions</b>"
   ]
  },
  {
   "cell_type": "code",
   "execution_count": 4,
   "id": "1a799f72",
   "metadata": {},
   "outputs": [],
   "source": [
    "supernova = CDLL((\"supernova.so\"))\n",
    "# Load library\n",
    "# Make sure you have a supernova.so binary compiled for your system\n",
    "\n",
    "\n",
    "def _wrap_func(lib, funcname, restype, argtypes):\n",
    "    ''' Referenced from https://dbader.org/blog/python-ctypes-tutorial-part-2\n",
    "    '''\n",
    "    func = lib.__getattr__(funcname)\n",
    "    func.restype = restype\n",
    "    func.argtypes = argtypes\n",
    "    return func\n",
    "\n",
    "\n",
    "force_model = _wrap_func(\n",
    "    supernova, \"simplified_perturbations\", None,\n",
    "    [c_double, POINTER(c_double), POINTER(c_double)])\n",
    "\n",
    "state_from_keplerian = _wrap_func(\n",
    "    supernova, \"stateFromKeplerian\", POINTER(c_double),\n",
    "    [c_double, c_double, c_double, c_double, c_double, c_double])\n",
    "\n",
    "next_state = _wrap_func(\n",
    "    supernova, \"nextStatefromCurrent\", POINTER(c_double),\n",
    "    [c_double, c_double, c_double, c_double, c_double, c_double, c_double]\n",
    ")\n",
    "\n",
    "free = _wrap_func(supernova, \"freemem\", None, [c_void_p])\n",
    "# Define functions from supernova C in Python\n",
    "\n",
    "\n",
    "def get_state_and_acceleration(state: np.ndarray) -> \\\n",
    "        \"tuple[np.ndarray, np.ndarray]\":\n",
    "    '''\n",
    "    state: 6 keplerian elements presented as [SMA, ECC, INC, RAAN, AOP, MA]\n",
    "    all distances in m\n",
    "    all angles in radians\n",
    "    '''\n",
    "    rv = state_from_keplerian(*state)  # position/velocity vector\n",
    "    result = (c_double*6)()  # place to store the resulting velocity/acceleration\n",
    "    force_model(0, rv, result)\n",
    "\n",
    "    py_rv = np.copy(np.ctypeslib.as_array(rv, shape=(6,)))\n",
    "    py_result = np.copy(np.ctypeslib.as_array(result, shape=(6,)))\n",
    "    free(rv)\n",
    "\n",
    "    return py_rv, py_result\n",
    "\n",
    "\n",
    "def get_state_and_next_state(state: np.ndarray, timestep) -> \\\n",
    "        \"np.ndarray\":\n",
    "    '''\n",
    "    state: 6 position/velocity state presented as [X, Y, Z, VX, VY, VZ]\n",
    "    timestep: how many seconds forward to advance orbit (keep it less than 60 and more than 1)\n",
    "    all distances in m\n",
    "    '''\n",
    "    next = next_state(*state, timestep)  # position/velocity vector\n",
    "    py_next = np.copy(np.ctypeslib.as_array(next, shape=(6,)))\n",
    "\n",
    "    free(next)\n",
    "\n",
    "    return py_next"
   ]
  },
  {
   "cell_type": "markdown",
   "id": "7b9a4e6a",
   "metadata": {},
   "source": [
    "------------------\n",
    "\n",
    "<b> 4. Generating Position and Effect Vectors from Simulated Keplarian Coordinate List </b>"
   ]
  },
  {
   "cell_type": "code",
   "execution_count": 5,
   "id": "20f41b75",
   "metadata": {
    "scrolled": false
   },
   "outputs": [
    {
     "data": {
      "application/vnd.jupyter.widget-view+json": {
       "model_id": "58cb3c9660d0421aa85c39dc9c4e3848",
       "version_major": 2,
       "version_minor": 0
      },
      "text/plain": [
       "  0%|          | 0/45000000 [00:00<?, ?it/s]"
      ]
     },
     "metadata": {},
     "output_type": "display_data"
    }
   ],
   "source": [
    "position1_data = np.zeros(shape=(np.shape(kepl_elem_coordinates)))\n",
    "position2_data = np.zeros(shape=(np.shape(kepl_elem_coordinates)))\n",
    "\n",
    "i = 0\n",
    "\n",
    "for coord in tqdm(kepl_elem_coordinates):\n",
    "    position1, effect = get_state_and_acceleration(coord)\n",
    "    timestep = 10\n",
    "    position2 = get_state_and_next_state(position1, timestep)\n",
    "    position1_data[i] = position1\n",
    "    position2_data[i] = position2\n",
    "    i+=1"
   ]
  },
  {
   "cell_type": "markdown",
   "id": "bd14984a",
   "metadata": {},
   "source": [
    "-----------------\n",
    "\n",
    "<b>4. Saving Position and Effect Vectors to .NPY file</b>"
   ]
  },
  {
   "cell_type": "code",
   "execution_count": 6,
   "id": "ae8c0051",
   "metadata": {},
   "outputs": [],
   "source": [
    "np.save('./DATA/position_data1.npy', position1_data)\n",
    "np.save('./DATA/position_data2.npy', position2_data)"
   ]
  }
 ],
 "metadata": {
  "kernelspec": {
   "display_name": "Python 3",
   "language": "python",
   "name": "python3"
  },
  "language_info": {
   "codemirror_mode": {
    "name": "ipython",
    "version": 3
   },
   "file_extension": ".py",
   "mimetype": "text/x-python",
   "name": "python",
   "nbconvert_exporter": "python",
   "pygments_lexer": "ipython3",
   "version": "3.7.4"
  }
 },
 "nbformat": 4,
 "nbformat_minor": 5
}
